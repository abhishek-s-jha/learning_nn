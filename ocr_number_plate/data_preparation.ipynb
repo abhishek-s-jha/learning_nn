{
 "cells": [
  {
   "cell_type": "markdown",
   "metadata": {},
   "source": [
    "As of now, I have manually annotated HDR_IMAGES (299 images).\n",
    "During annotation, I found some images in which number plates were not visible at all.\n",
    "So, we will remove images which dont have annotation and shift them to outliers."
   ]
  },
  {
   "cell_type": "code",
   "execution_count": 61,
   "metadata": {},
   "outputs": [],
   "source": [
    "import os\n",
    "import shutil\n",
    "import cv2\n",
    "import matplotlib.pyplot as plt\n",
    "from tqdm import tqdm"
   ]
  },
  {
   "cell_type": "code",
   "execution_count": 38,
   "metadata": {},
   "outputs": [],
   "source": [
    "hdr_image_dir = \"./training_data/hdr_images/\"\n",
    "hdr_annotations_dir = \"./training_data/hdr_annotations/\"\n",
    "outliers_dir = \"./training_data/outliers/\"\n",
    "normal_image_dir = \"./training_data/normal_images/\"\n",
    "normal_annotations_dir = \"./training_data/normal_annotations/\"\n",
    "final_normal_image_dir = \"./training_data/final_normal_images/\""
   ]
  },
  {
   "cell_type": "code",
   "execution_count": 19,
   "metadata": {},
   "outputs": [
    {
     "name": "stdout",
     "output_type": "stream",
     "text": [
      "HDR_9B54817.png\n",
      "HDR_BZD1223.png\n",
      "HDR_BZH8389.png\n"
     ]
    }
   ],
   "source": [
    "# moving images which are not visible from HDR and NORMAL image directory to outliers directory\n",
    "for file in os.listdir(hdr_image_dir):\n",
    "    if not os.path.isfile(os.path.join(hdr_annotations_dir,file[:-4]+\".xml\")):\n",
    "        shutil.move(os.path.join(hdr_image_dir,file), outliers_dir)\n",
    "        shutil.move(os.path.join(normal_image_dir,\"NORMAL_\"+file.split('_')[1]), outliers_dir)\n",
    "        print(file)"
   ]
  },
  {
   "cell_type": "code",
   "execution_count": 22,
   "metadata": {},
   "outputs": [],
   "source": [
    "# generating annotation for normal images using hdr annotation"
   ]
  },
  {
   "cell_type": "code",
   "execution_count": 62,
   "metadata": {},
   "outputs": [
    {
     "name": "stderr",
     "output_type": "stream",
     "text": [
      "100%|██████████| 299/299 [00:01<00:00, 149.89it/s]\n"
     ]
    }
   ],
   "source": [
    "mismatch_img = []\n",
    "for img in tqdm(os.listdir(hdr_image_dir)):\n",
    "    hdr_img = cv2.imread(os.path.join(hdr_image_dir, img))\n",
    "    norm_img = cv2.imread(os.path.join(normal_image_dir, \"NORMAL_\"+img.split('_')[1]))\n",
    "    \n",
    "    # this will ensure that both are same image with same dimension but diferent color saturation.\n",
    "    # so, bbox will be same for both of them.\n",
    "    if hdr_img.shape == norm_img.shape:\n",
    "        shutil.copy2(os.path.join(normal_image_dir,\"NORMAL_\"+img.split('_')[1]),\n",
    "                     os.path.join(final_normal_image_dir, \"NORMAL_\"+img.split('_')[1]))\n",
    "        \n",
    "        # generating annotation\n",
    "        fp = open(os.path.join(hdr_annotations_dir, img[:-4]+\".xml\"), \"r\")\n",
    "        data = fp.readlines()\n",
    "        fp.close()\n",
    "        \n",
    "        \n",
    "        # updating annotation according to new file name\n",
    "        data[2] = data[2].replace(\"HDR_\",\"NORMAL_\")\n",
    "        data[3] = data[3].replace(\"HDR_\",\"NORMAL_\")\n",
    "        fp = open(os.path.join(normal_annotations_dir,\"NORMAL_\"+img[4:-4]+\".xml\"),'w')\n",
    "        fp.writelines(data)\n",
    "        fp.close()\n",
    "        \n",
    "    else:\n",
    "        mismatch_img.append(img)"
   ]
  },
  {
   "cell_type": "code",
   "execution_count": 63,
   "metadata": {},
   "outputs": [
    {
     "data": {
      "text/plain": [
       "[]"
      ]
     },
     "execution_count": 63,
     "metadata": {},
     "output_type": "execute_result"
    }
   ],
   "source": [
    "mismatch_img"
   ]
  },
  {
   "cell_type": "code",
   "execution_count": null,
   "metadata": {},
   "outputs": [],
   "source": []
  }
 ],
 "metadata": {
  "kernelspec": {
   "display_name": "Python 3",
   "language": "python",
   "name": "python3"
  },
  "language_info": {
   "codemirror_mode": {
    "name": "ipython",
    "version": 3
   },
   "file_extension": ".py",
   "mimetype": "text/x-python",
   "name": "python",
   "nbconvert_exporter": "python",
   "pygments_lexer": "ipython3",
   "version": "3.6.12"
  }
 },
 "nbformat": 4,
 "nbformat_minor": 4
}
